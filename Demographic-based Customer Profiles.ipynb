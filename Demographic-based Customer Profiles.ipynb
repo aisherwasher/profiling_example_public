{
 "cells": [
  {
   "cell_type": "markdown",
   "id": "56524dac",
   "metadata": {},
   "source": [
    "# Import Libraries"
   ]
  },
  {
   "cell_type": "code",
   "execution_count": 8,
   "id": "23f8cb31",
   "metadata": {},
   "outputs": [],
   "source": [
    "import pandas as pd   \n",
    "import os\n",
    "\n",
    "import seaborn as sns\n",
    "import matplotlib.pyplot as plt\n",
    "# import scipy.stats as sts\n",
    "\n",
    "import numpy as np\n",
    "# import psycopg2 "
   ]
  },
  {
   "cell_type": "markdown",
   "id": "fe95a870",
   "metadata": {},
   "source": [
    "# Load Data"
   ]
  },
  {
   "cell_type": "code",
   "execution_count": 2,
   "id": "628c4ad1",
   "metadata": {},
   "outputs": [],
   "source": [
    "df_customer = pd.read_csv('1_datasets/customer.csv')\n",
    "df_product = pd.read_csv('1_datasets/product.csv')\n",
    "df_demographics =  pd.read_csv('1_datasets/demographics.csv')\n",
    "\n",
    "# df_customer.head()\n",
    "# df_product.head()\n",
    "# df_demographics.head()"
   ]
  },
  {
   "cell_type": "markdown",
   "id": "c74a52d3",
   "metadata": {},
   "source": [
    "# Transform Data"
   ]
  },
  {
   "cell_type": "code",
   "execution_count": 67,
   "id": "d7caf0f7",
   "metadata": {},
   "outputs": [],
   "source": [
    "# df.columns"
   ]
  },
  {
   "cell_type": "code",
   "execution_count": 3,
   "id": "1a134781",
   "metadata": {},
   "outputs": [],
   "source": [
    "# Join customers, product, and demographics tables\n",
    "merge1 = pd.merge(df_customer, df_product, on = ['cust_id', 'product_id'])\n",
    "merge2 = pd.merge(merge1, df_demographics, on = 'cust_id')\n",
    "df_merged = merge2\n",
    "\n",
    "# df_merged.head()"
   ]
  },
  {
   "cell_type": "code",
   "execution_count": 4,
   "id": "8dc32886",
   "metadata": {},
   "outputs": [
    {
     "data": {
      "text/html": [
       "<div>\n",
       "<style scoped>\n",
       "    .dataframe tbody tr th:only-of-type {\n",
       "        vertical-align: middle;\n",
       "    }\n",
       "\n",
       "    .dataframe tbody tr th {\n",
       "        vertical-align: top;\n",
       "    }\n",
       "\n",
       "    .dataframe thead th {\n",
       "        text-align: right;\n",
       "    }\n",
       "</style>\n",
       "<table border=\"1\" class=\"dataframe\">\n",
       "  <thead>\n",
       "    <tr style=\"text-align: right;\">\n",
       "      <th></th>\n",
       "      <th>product_sku</th>\n",
       "      <th>product_brand</th>\n",
       "      <th>age</th>\n",
       "      <th>sex</th>\n",
       "      <th>income</th>\n",
       "      <th>state</th>\n",
       "      <th>usage</th>\n",
       "      <th>gross_revenue</th>\n",
       "      <th>cust_id</th>\n",
       "    </tr>\n",
       "  </thead>\n",
       "  <tbody>\n",
       "    <tr>\n",
       "      <th>0</th>\n",
       "      <td>AB</td>\n",
       "      <td>Circle</td>\n",
       "      <td>26-45</td>\n",
       "      <td>Female</td>\n",
       "      <td>$500-$1000</td>\n",
       "      <td>IA</td>\n",
       "      <td>44.233805</td>\n",
       "      <td>110.584513</td>\n",
       "      <td>3</td>\n",
       "    </tr>\n",
       "    <tr>\n",
       "      <th>1</th>\n",
       "      <td>AB</td>\n",
       "      <td>Circle</td>\n",
       "      <td>26-45</td>\n",
       "      <td>Female</td>\n",
       "      <td>$500-$1000</td>\n",
       "      <td>MO</td>\n",
       "      <td>51.924213</td>\n",
       "      <td>129.810534</td>\n",
       "      <td>2</td>\n",
       "    </tr>\n",
       "    <tr>\n",
       "      <th>2</th>\n",
       "      <td>AB</td>\n",
       "      <td>Circle</td>\n",
       "      <td>26-45</td>\n",
       "      <td>Female</td>\n",
       "      <td>$500-$1000</td>\n",
       "      <td>WI</td>\n",
       "      <td>46.000037</td>\n",
       "      <td>115.000093</td>\n",
       "      <td>1</td>\n",
       "    </tr>\n",
       "    <tr>\n",
       "      <th>3</th>\n",
       "      <td>AB</td>\n",
       "      <td>Circle</td>\n",
       "      <td>26-45</td>\n",
       "      <td>Female</td>\n",
       "      <td>Above $1000</td>\n",
       "      <td>MO</td>\n",
       "      <td>52.461409</td>\n",
       "      <td>131.153523</td>\n",
       "      <td>3</td>\n",
       "    </tr>\n",
       "    <tr>\n",
       "      <th>4</th>\n",
       "      <td>AB</td>\n",
       "      <td>Circle</td>\n",
       "      <td>26-45</td>\n",
       "      <td>Female</td>\n",
       "      <td>Under $500</td>\n",
       "      <td>IN</td>\n",
       "      <td>51.044714</td>\n",
       "      <td>127.611784</td>\n",
       "      <td>1</td>\n",
       "    </tr>\n",
       "  </tbody>\n",
       "</table>\n",
       "</div>"
      ],
      "text/plain": [
       "  product_sku product_brand    age     sex       income state      usage  \\\n",
       "0          AB        Circle  26-45  Female   $500-$1000    IA  44.233805   \n",
       "1          AB        Circle  26-45  Female   $500-$1000    MO  51.924213   \n",
       "2          AB        Circle  26-45  Female   $500-$1000    WI  46.000037   \n",
       "3          AB        Circle  26-45  Female  Above $1000    MO  52.461409   \n",
       "4          AB        Circle  26-45  Female   Under $500    IN  51.044714   \n",
       "\n",
       "   gross_revenue  cust_id  \n",
       "0     110.584513        3  \n",
       "1     129.810534        2  \n",
       "2     115.000093        1  \n",
       "3     131.153523        3  \n",
       "4     127.611784        1  "
      ]
     },
     "execution_count": 4,
     "metadata": {},
     "output_type": "execute_result"
    }
   ],
   "source": [
    "# Find averages for usage and gross_revenue\n",
    "df_sum_drop = df_merged.drop(columns = ['cust_id', 'product_id', 'fiscal_year', 'reporting_months', 'loyalty', 'user_environment', 'subscribed'])\n",
    "df_sum = df_sum_drop.groupby(['product_sku', 'product_brand', 'age', 'sex', 'income', 'state']).mean()\n",
    "df_sum_indexed = df_sum.reset_index()\n",
    "\n",
    "# Find counts for product_id\n",
    "df_ct_drop = df_merged.drop(columns = ['usage', 'gross_revenue', 'product_id', 'fiscal_year', 'reporting_months', 'loyalty', 'user_environment', 'subscribed'])\n",
    "df_ct = df_ct_drop.groupby(['product_sku', 'product_brand', 'age', 'sex', 'income', 'state']).count()\n",
    "df_ct_indexed = df_ct.reset_index()\n",
    "\n",
    "df = pd.merge(df_sum_indexed, df_ct_indexed)\n",
    "\n",
    "# df_sum_indexed.head()\n",
    "# df_ct_indexed.head()\n",
    "df.head()"
   ]
  },
  {
   "cell_type": "code",
   "execution_count": 5,
   "id": "80bc0d38",
   "metadata": {},
   "outputs": [
    {
     "data": {
      "text/html": [
       "<div>\n",
       "<style scoped>\n",
       "    .dataframe tbody tr th:only-of-type {\n",
       "        vertical-align: middle;\n",
       "    }\n",
       "\n",
       "    .dataframe tbody tr th {\n",
       "        vertical-align: top;\n",
       "    }\n",
       "\n",
       "    .dataframe thead th {\n",
       "        text-align: right;\n",
       "    }\n",
       "</style>\n",
       "<table border=\"1\" class=\"dataframe\">\n",
       "  <thead>\n",
       "    <tr style=\"text-align: right;\">\n",
       "      <th></th>\n",
       "      <th>product_sku</th>\n",
       "      <th>product_brand</th>\n",
       "      <th>usage</th>\n",
       "      <th>gross_revenue</th>\n",
       "      <th>cust_id</th>\n",
       "      <th>age_26-45</th>\n",
       "      <th>age_46-65</th>\n",
       "      <th>age_&lt;25</th>\n",
       "      <th>age_&gt;65</th>\n",
       "      <th>sex_Female</th>\n",
       "      <th>...</th>\n",
       "      <th>sex_Other</th>\n",
       "      <th>income_$500-$1000</th>\n",
       "      <th>income_Above $1000</th>\n",
       "      <th>income_Under $500</th>\n",
       "      <th>state_IA</th>\n",
       "      <th>state_IL</th>\n",
       "      <th>state_IN</th>\n",
       "      <th>state_MN</th>\n",
       "      <th>state_MO</th>\n",
       "      <th>state_WI</th>\n",
       "    </tr>\n",
       "  </thead>\n",
       "  <tbody>\n",
       "    <tr>\n",
       "      <th>0</th>\n",
       "      <td>AB</td>\n",
       "      <td>Circle</td>\n",
       "      <td>44.233805</td>\n",
       "      <td>110.584513</td>\n",
       "      <td>3</td>\n",
       "      <td>1</td>\n",
       "      <td>0</td>\n",
       "      <td>0</td>\n",
       "      <td>0</td>\n",
       "      <td>1</td>\n",
       "      <td>...</td>\n",
       "      <td>0</td>\n",
       "      <td>1</td>\n",
       "      <td>0</td>\n",
       "      <td>0</td>\n",
       "      <td>1</td>\n",
       "      <td>0</td>\n",
       "      <td>0</td>\n",
       "      <td>0</td>\n",
       "      <td>0</td>\n",
       "      <td>0</td>\n",
       "    </tr>\n",
       "    <tr>\n",
       "      <th>1</th>\n",
       "      <td>AB</td>\n",
       "      <td>Circle</td>\n",
       "      <td>51.924213</td>\n",
       "      <td>129.810534</td>\n",
       "      <td>2</td>\n",
       "      <td>1</td>\n",
       "      <td>0</td>\n",
       "      <td>0</td>\n",
       "      <td>0</td>\n",
       "      <td>1</td>\n",
       "      <td>...</td>\n",
       "      <td>0</td>\n",
       "      <td>1</td>\n",
       "      <td>0</td>\n",
       "      <td>0</td>\n",
       "      <td>0</td>\n",
       "      <td>0</td>\n",
       "      <td>0</td>\n",
       "      <td>0</td>\n",
       "      <td>1</td>\n",
       "      <td>0</td>\n",
       "    </tr>\n",
       "    <tr>\n",
       "      <th>2</th>\n",
       "      <td>AB</td>\n",
       "      <td>Circle</td>\n",
       "      <td>46.000037</td>\n",
       "      <td>115.000093</td>\n",
       "      <td>1</td>\n",
       "      <td>1</td>\n",
       "      <td>0</td>\n",
       "      <td>0</td>\n",
       "      <td>0</td>\n",
       "      <td>1</td>\n",
       "      <td>...</td>\n",
       "      <td>0</td>\n",
       "      <td>1</td>\n",
       "      <td>0</td>\n",
       "      <td>0</td>\n",
       "      <td>0</td>\n",
       "      <td>0</td>\n",
       "      <td>0</td>\n",
       "      <td>0</td>\n",
       "      <td>0</td>\n",
       "      <td>1</td>\n",
       "    </tr>\n",
       "    <tr>\n",
       "      <th>3</th>\n",
       "      <td>AB</td>\n",
       "      <td>Circle</td>\n",
       "      <td>52.461409</td>\n",
       "      <td>131.153523</td>\n",
       "      <td>3</td>\n",
       "      <td>1</td>\n",
       "      <td>0</td>\n",
       "      <td>0</td>\n",
       "      <td>0</td>\n",
       "      <td>1</td>\n",
       "      <td>...</td>\n",
       "      <td>0</td>\n",
       "      <td>0</td>\n",
       "      <td>1</td>\n",
       "      <td>0</td>\n",
       "      <td>0</td>\n",
       "      <td>0</td>\n",
       "      <td>0</td>\n",
       "      <td>0</td>\n",
       "      <td>1</td>\n",
       "      <td>0</td>\n",
       "    </tr>\n",
       "    <tr>\n",
       "      <th>4</th>\n",
       "      <td>AB</td>\n",
       "      <td>Circle</td>\n",
       "      <td>51.044714</td>\n",
       "      <td>127.611784</td>\n",
       "      <td>1</td>\n",
       "      <td>1</td>\n",
       "      <td>0</td>\n",
       "      <td>0</td>\n",
       "      <td>0</td>\n",
       "      <td>1</td>\n",
       "      <td>...</td>\n",
       "      <td>0</td>\n",
       "      <td>0</td>\n",
       "      <td>0</td>\n",
       "      <td>1</td>\n",
       "      <td>0</td>\n",
       "      <td>0</td>\n",
       "      <td>1</td>\n",
       "      <td>0</td>\n",
       "      <td>0</td>\n",
       "      <td>0</td>\n",
       "    </tr>\n",
       "  </tbody>\n",
       "</table>\n",
       "<p>5 rows × 21 columns</p>\n",
       "</div>"
      ],
      "text/plain": [
       "  product_sku product_brand      usage  gross_revenue  cust_id  age_26-45  \\\n",
       "0          AB        Circle  44.233805     110.584513        3          1   \n",
       "1          AB        Circle  51.924213     129.810534        2          1   \n",
       "2          AB        Circle  46.000037     115.000093        1          1   \n",
       "3          AB        Circle  52.461409     131.153523        3          1   \n",
       "4          AB        Circle  51.044714     127.611784        1          1   \n",
       "\n",
       "   age_46-65  age_<25  age_>65  sex_Female  ...  sex_Other  income_$500-$1000  \\\n",
       "0          0        0        0           1  ...          0                  1   \n",
       "1          0        0        0           1  ...          0                  1   \n",
       "2          0        0        0           1  ...          0                  1   \n",
       "3          0        0        0           1  ...          0                  0   \n",
       "4          0        0        0           1  ...          0                  0   \n",
       "\n",
       "   income_Above $1000  income_Under $500  state_IA  state_IL  state_IN  \\\n",
       "0                   0                  0         1         0         0   \n",
       "1                   0                  0         0         0         0   \n",
       "2                   0                  0         0         0         0   \n",
       "3                   1                  0         0         0         0   \n",
       "4                   0                  1         0         0         1   \n",
       "\n",
       "   state_MN  state_MO  state_WI  \n",
       "0         0         0         0  \n",
       "1         0         1         0  \n",
       "2         0         0         1  \n",
       "3         0         1         0  \n",
       "4         0         0         0  \n",
       "\n",
       "[5 rows x 21 columns]"
      ]
     },
     "execution_count": 5,
     "metadata": {},
     "output_type": "execute_result"
    }
   ],
   "source": [
    "# Create dummy variables for demographic fields\n",
    "df_dummies = pd.get_dummies(df, columns = ['age', 'sex', 'income', 'state'])\n",
    "\n",
    "df_dummies.head()"
   ]
  },
  {
   "cell_type": "markdown",
   "id": "57614082",
   "metadata": {},
   "source": [
    "# Export Data"
   ]
  },
  {
   "cell_type": "code",
   "execution_count": 106,
   "id": "62090222",
   "metadata": {},
   "outputs": [],
   "source": [
    "df = df_dummies"
   ]
  },
  {
   "cell_type": "code",
   "execution_count": 107,
   "id": "8921cc36",
   "metadata": {},
   "outputs": [],
   "source": [
    "df.to_csv('clean_profile_dataset.csv', index = False)"
   ]
  },
  {
   "cell_type": "markdown",
   "id": "10fcabff",
   "metadata": {},
   "source": [
    "# Visualize Data"
   ]
  },
  {
   "cell_type": "markdown",
   "id": "78967c1f",
   "metadata": {},
   "source": [
    "## <font color = 'blue' > Ungrouped Histograms"
   ]
  },
  {
   "cell_type": "code",
   "execution_count": 9,
   "id": "35fba720",
   "metadata": {},
   "outputs": [
    {
     "data": {
      "image/png": "[encoded data removed]",
      "text/plain": [
       "<Figure size 1152x576 with 2 Axes>"
      ]
     },
     "metadata": {
      "needs_background": "light"
     },
     "output_type": "display_data"
    }
   ],
   "source": [
    "# Create two subplot histograms for usage and gross revenue\n",
    "fig, axes = plt.subplots(nrows = 1, ncols = 2, figsize=(16, 8))\n",
    "\n",
    "sns.histplot(data=df_merged, x = \"usage\", ax=axes[0], kde = True).set(title = \"Histogram of Usage\", )\n",
    "sns.histplot(data=df_merged, x = \"gross_revenue\", ax=axes[1], kde = True).set(title = \"Histogram of Gross Revenue\")\n",
    "\n",
    "plt.show()"
   ]
  },
  {
   "cell_type": "markdown",
   "id": "6b4c4199",
   "metadata": {},
   "source": [
    "## <font color = 'blue' > Histograms Shaded by Product Line"
   ]
  },
  {
   "cell_type": "code",
   "execution_count": 10,
   "id": "6da1fc78",
   "metadata": {},
   "outputs": [
    {
     "data": {
      "image/png": "[encoded data removed]",
      "text/plain": [
       "<Figure size 1152x576 with 2 Axes>"
      ]
     },
     "metadata": {
      "needs_background": "light"
     },
     "output_type": "display_data"
    }
   ],
   "source": [
    "# Create two subplot histograms for usage and gross revenue, including shabing grouped by product line/sku\n",
    "fig, axes = plt.subplots(nrows = 1, ncols = 2, figsize=(16, 8))\n",
    "\n",
    "sns.histplot(data=df_merged, x = \"usage\", ax=axes[0], hue = \"product_sku\").set(title = \"Histogram of Usage - Shaded by Product Line\", )\n",
    "sns.histplot(data=df_merged, x = \"gross_revenue\", ax=axes[1], hue = \"product_sku\").set(title = \"Histogram of Gross Revenue - Shaded by Product Line\")\n",
    "\n",
    "plt.show()"
   ]
  },
  {
   "cell_type": "markdown",
   "id": "c330fc1a",
   "metadata": {},
   "source": [
    "Product SKU AB = Product Line Basic,\n",
    "Product SKU AC = Product Line Basic+,\n",
    "Product SKU BB = Product Line Deluxe,\n",
    "Product SKU BC = Product Line Max\n",
    "\n",
    "![Pencils](pencilsETC.PNG)"
   ]
  },
  {
   "cell_type": "code",
   "execution_count": null,
   "id": "acd5dc8e",
   "metadata": {},
   "outputs": [],
   "source": []
  },
  {
   "cell_type": "code",
   "execution_count": null,
   "id": "97176d03",
   "metadata": {},
   "outputs": [],
   "source": []
  }
 ],
 "metadata": {
  "kernelspec": {
   "display_name": "Python 3 (ipykernel)",
   "language": "python",
   "name": "python3"
  },
  "language_info": {
   "codemirror_mode": {
    "name": "ipython",
    "version": 3
   },
   "file_extension": ".py",
   "mimetype": "text/x-python",
   "name": "python",
   "nbconvert_exporter": "python",
   "pygments_lexer": "ipython3",
   "version": "3.9.7"
  }
 },
 "nbformat": 4,
 "nbformat_minor": 5
}
